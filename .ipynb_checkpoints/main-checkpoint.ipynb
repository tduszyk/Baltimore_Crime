{
 "cells": [
  {
   "cell_type": "code",
   "execution_count": 15,
   "metadata": {
    "scrolled": true
   },
   "outputs": [],
   "source": [
    "# Dependencies and Setup\n",
    "import pandas as pd\n",
    "import csv\n",
    "from geopy.geocoders import Nominatim\n"
   ]
  },
  {
   "cell_type": "markdown",
   "metadata": {},
   "source": [
    "# EXTRACT"
   ]
  },
  {
   "cell_type": "code",
   "execution_count": 2,
   "metadata": {},
   "outputs": [],
   "source": [
    "# File to Load\n",
    "crime_to_load = \"Resources/Baltimore_2019_Crime_Only.csv\"\n",
    "cctv_to_load = \"Resources/Baltimore_CCTV_Locations.csv\""
   ]
  },
  {
   "cell_type": "code",
   "execution_count": 3,
   "metadata": {},
   "outputs": [],
   "source": [
    "# Read the CSV files\n",
    "crime_df = pd.read_csv(crime_to_load)\n",
    "cctv_df = pd.read_csv(cctv_to_load)"
   ]
  },
  {
   "cell_type": "code",
   "execution_count": 4,
   "metadata": {},
   "outputs": [
    {
     "data": {
      "text/html": [
       "<div>\n",
       "<style scoped>\n",
       "    .dataframe tbody tr th:only-of-type {\n",
       "        vertical-align: middle;\n",
       "    }\n",
       "\n",
       "    .dataframe tbody tr th {\n",
       "        vertical-align: top;\n",
       "    }\n",
       "\n",
       "    .dataframe thead th {\n",
       "        text-align: right;\n",
       "    }\n",
       "</style>\n",
       "<table border=\"1\" class=\"dataframe\">\n",
       "  <thead>\n",
       "    <tr style=\"text-align: right;\">\n",
       "      <th></th>\n",
       "      <th>CrimeDate</th>\n",
       "      <th>CrimeTime</th>\n",
       "      <th>CrimeCode</th>\n",
       "      <th>Location</th>\n",
       "      <th>Description</th>\n",
       "      <th>Weapon</th>\n",
       "      <th>District</th>\n",
       "      <th>Neighborhood</th>\n",
       "      <th>Total Incidents</th>\n",
       "    </tr>\n",
       "  </thead>\n",
       "  <tbody>\n",
       "    <tr>\n",
       "      <th>0</th>\n",
       "      <td>07/06/2019</td>\n",
       "      <td>01:30:00</td>\n",
       "      <td>5B</td>\n",
       "      <td>0 HILLSIDE RD</td>\n",
       "      <td>BURGLARY</td>\n",
       "      <td>NaN</td>\n",
       "      <td>NORTHERN</td>\n",
       "      <td>ROLAND PARK</td>\n",
       "      <td>1</td>\n",
       "    </tr>\n",
       "    <tr>\n",
       "      <th>1</th>\n",
       "      <td>07/06/2019</td>\n",
       "      <td>09:00:00</td>\n",
       "      <td>7A</td>\n",
       "      <td>1600 APPLETON ST</td>\n",
       "      <td>AUTO THEFT</td>\n",
       "      <td>NaN</td>\n",
       "      <td>WESTERN</td>\n",
       "      <td>EASTERWOOD</td>\n",
       "      <td>1</td>\n",
       "    </tr>\n",
       "    <tr>\n",
       "      <th>2</th>\n",
       "      <td>07/06/2019</td>\n",
       "      <td>07:03:00</td>\n",
       "      <td>6E</td>\n",
       "      <td>2500 EDGECOMBE CIR N</td>\n",
       "      <td>LARCENY</td>\n",
       "      <td>NaN</td>\n",
       "      <td>NORTHERN</td>\n",
       "      <td>PARKLANE</td>\n",
       "      <td>1</td>\n",
       "    </tr>\n",
       "    <tr>\n",
       "      <th>3</th>\n",
       "      <td>07/06/2019</td>\n",
       "      <td>02:30:00</td>\n",
       "      <td>3AK</td>\n",
       "      <td>PL &amp; N HIGHLAND AV</td>\n",
       "      <td>ROBBERY - STREET</td>\n",
       "      <td>KNIFE</td>\n",
       "      <td>SOUTHEAST</td>\n",
       "      <td>NaN</td>\n",
       "      <td>1</td>\n",
       "    </tr>\n",
       "    <tr>\n",
       "      <th>4</th>\n",
       "      <td>07/06/2019</td>\n",
       "      <td>10:05:00</td>\n",
       "      <td>6C</td>\n",
       "      <td>700 WASHINGTON BLVD</td>\n",
       "      <td>LARCENY</td>\n",
       "      <td>NaN</td>\n",
       "      <td>SOUTHERN</td>\n",
       "      <td>WASHINGTON VILLAGE</td>\n",
       "      <td>1</td>\n",
       "    </tr>\n",
       "  </tbody>\n",
       "</table>\n",
       "</div>"
      ],
      "text/plain": [
       "    CrimeDate CrimeTime CrimeCode              Location       Description  \\\n",
       "0  07/06/2019  01:30:00        5B         0 HILLSIDE RD          BURGLARY   \n",
       "1  07/06/2019  09:00:00        7A      1600 APPLETON ST        AUTO THEFT   \n",
       "2  07/06/2019  07:03:00        6E  2500 EDGECOMBE CIR N           LARCENY   \n",
       "3  07/06/2019  02:30:00       3AK    PL & N HIGHLAND AV  ROBBERY - STREET   \n",
       "4  07/06/2019  10:05:00        6C   700 WASHINGTON BLVD           LARCENY   \n",
       "\n",
       "  Weapon   District        Neighborhood  Total Incidents  \n",
       "0    NaN   NORTHERN         ROLAND PARK                1  \n",
       "1    NaN    WESTERN          EASTERWOOD                1  \n",
       "2    NaN   NORTHERN            PARKLANE                1  \n",
       "3  KNIFE  SOUTHEAST                 NaN                1  \n",
       "4    NaN   SOUTHERN  WASHINGTON VILLAGE                1  "
      ]
     },
     "execution_count": 4,
     "metadata": {},
     "output_type": "execute_result"
    }
   ],
   "source": [
    "crime_df.head()"
   ]
  },
  {
   "cell_type": "code",
   "execution_count": 5,
   "metadata": {},
   "outputs": [
    {
     "data": {
      "text/html": [
       "<div>\n",
       "<style scoped>\n",
       "    .dataframe tbody tr th:only-of-type {\n",
       "        vertical-align: middle;\n",
       "    }\n",
       "\n",
       "    .dataframe tbody tr th {\n",
       "        vertical-align: top;\n",
       "    }\n",
       "\n",
       "    .dataframe thead th {\n",
       "        text-align: right;\n",
       "    }\n",
       "</style>\n",
       "<table border=\"1\" class=\"dataframe\">\n",
       "  <thead>\n",
       "    <tr style=\"text-align: right;\">\n",
       "      <th></th>\n",
       "      <th>cameraLocation</th>\n",
       "      <th>cameraNumber</th>\n",
       "      <th>cameraProject</th>\n",
       "      <th>Location 1</th>\n",
       "    </tr>\n",
       "  </thead>\n",
       "  <tbody>\n",
       "    <tr>\n",
       "      <th>0</th>\n",
       "      <td>Eutaw and Lexington Market</td>\n",
       "      <td>1</td>\n",
       "      <td>Downtown</td>\n",
       "      <td>(39.290996, -76.621073999999993)</td>\n",
       "    </tr>\n",
       "    <tr>\n",
       "      <th>1</th>\n",
       "      <td>Eutaw and Fayette</td>\n",
       "      <td>2</td>\n",
       "      <td>Downtown</td>\n",
       "      <td>(39.29048796517317, -76.623665143680341)</td>\n",
       "    </tr>\n",
       "    <tr>\n",
       "      <th>2</th>\n",
       "      <td>Eutaw and Baltimore</td>\n",
       "      <td>3</td>\n",
       "      <td>Downtown</td>\n",
       "      <td>(39.289324000000001, -76.620985000000005)</td>\n",
       "    </tr>\n",
       "    <tr>\n",
       "      <th>3</th>\n",
       "      <td>Eutaw and Redwood</td>\n",
       "      <td>4</td>\n",
       "      <td>Downtown</td>\n",
       "      <td>(39.288677999999997, -76.620947999999999)</td>\n",
       "    </tr>\n",
       "    <tr>\n",
       "      <th>4</th>\n",
       "      <td>Eutaw and Lombard</td>\n",
       "      <td>5</td>\n",
       "      <td>Downtown</td>\n",
       "      <td>(39.287528000000002, -76.620853999999994)</td>\n",
       "    </tr>\n",
       "  </tbody>\n",
       "</table>\n",
       "</div>"
      ],
      "text/plain": [
       "               cameraLocation  cameraNumber cameraProject  \\\n",
       "0  Eutaw and Lexington Market             1      Downtown   \n",
       "1           Eutaw and Fayette             2      Downtown   \n",
       "2         Eutaw and Baltimore             3      Downtown   \n",
       "3           Eutaw and Redwood             4      Downtown   \n",
       "4           Eutaw and Lombard             5      Downtown   \n",
       "\n",
       "                                  Location 1  \n",
       "0           (39.290996, -76.621073999999993)  \n",
       "1   (39.29048796517317, -76.623665143680341)  \n",
       "2  (39.289324000000001, -76.620985000000005)  \n",
       "3  (39.288677999999997, -76.620947999999999)  \n",
       "4  (39.287528000000002, -76.620853999999994)  "
      ]
     },
     "execution_count": 5,
     "metadata": {},
     "output_type": "execute_result"
    }
   ],
   "source": [
    "cctv_df.head()"
   ]
  },
  {
   "cell_type": "markdown",
   "metadata": {},
   "source": [
    "# TRANSFORM"
   ]
  },
  {
   "cell_type": "code",
   "execution_count": 6,
   "metadata": {},
   "outputs": [],
   "source": [
    "# Changing \"Location 1\" form cctv_df to 'latitude' and 'longitiude'\n",
    "# This is required for geocoding which we want to use to find addresses of deployed CCTV\n",
    "\n",
    "# Create two lists for the loop results to be placed\n",
    "lat = []\n",
    "lon = []\n",
    "\n",
    "# For each row in a varible,\n",
    "for row in cctv_df['Location 1']:\n",
    "    # Try to,\n",
    "    try:\n",
    "        #Remove ( from the string\n",
    "        row = row.replace(\"(\", \"\")\n",
    "        row = row.replace(\")\", \"\")\n",
    "        # Split the row by comma, convert to float, and append\n",
    "        # everything before the comma to lat\n",
    "        lat.append(float(row.split(',')[0]))\n",
    "        # Split the row by comma, convert to float, and append\n",
    "        # everything after the comma to lon\n",
    "        lon.append(float(row.split(',')[1]))\n",
    "    # But if you get an error\n",
    "    except:\n",
    "        # append a missing value to lat\n",
    "        lat.append(np.NaN)\n",
    "        # append a missing value to lon\n",
    "        lon.append(np.NaN)\n",
    "\n",
    "# Create two new columns from lat and lon\n",
    "cctv_df['latitude'] = lat\n",
    "cctv_df['longitude'] = lon"
   ]
  },
  {
   "cell_type": "code",
   "execution_count": 7,
   "metadata": {},
   "outputs": [
    {
     "data": {
      "text/html": [
       "<div>\n",
       "<style scoped>\n",
       "    .dataframe tbody tr th:only-of-type {\n",
       "        vertical-align: middle;\n",
       "    }\n",
       "\n",
       "    .dataframe tbody tr th {\n",
       "        vertical-align: top;\n",
       "    }\n",
       "\n",
       "    .dataframe thead th {\n",
       "        text-align: right;\n",
       "    }\n",
       "</style>\n",
       "<table border=\"1\" class=\"dataframe\">\n",
       "  <thead>\n",
       "    <tr style=\"text-align: right;\">\n",
       "      <th></th>\n",
       "      <th>cameraLocation</th>\n",
       "      <th>cameraNumber</th>\n",
       "      <th>cameraProject</th>\n",
       "      <th>Location 1</th>\n",
       "      <th>latitude</th>\n",
       "      <th>longitude</th>\n",
       "    </tr>\n",
       "  </thead>\n",
       "  <tbody>\n",
       "    <tr>\n",
       "      <th>0</th>\n",
       "      <td>Eutaw and Lexington Market</td>\n",
       "      <td>1</td>\n",
       "      <td>Downtown</td>\n",
       "      <td>(39.290996, -76.621073999999993)</td>\n",
       "      <td>39.290996</td>\n",
       "      <td>-76.621074</td>\n",
       "    </tr>\n",
       "    <tr>\n",
       "      <th>1</th>\n",
       "      <td>Eutaw and Fayette</td>\n",
       "      <td>2</td>\n",
       "      <td>Downtown</td>\n",
       "      <td>(39.29048796517317, -76.623665143680341)</td>\n",
       "      <td>39.290488</td>\n",
       "      <td>-76.623665</td>\n",
       "    </tr>\n",
       "    <tr>\n",
       "      <th>2</th>\n",
       "      <td>Eutaw and Baltimore</td>\n",
       "      <td>3</td>\n",
       "      <td>Downtown</td>\n",
       "      <td>(39.289324000000001, -76.620985000000005)</td>\n",
       "      <td>39.289324</td>\n",
       "      <td>-76.620985</td>\n",
       "    </tr>\n",
       "    <tr>\n",
       "      <th>3</th>\n",
       "      <td>Eutaw and Redwood</td>\n",
       "      <td>4</td>\n",
       "      <td>Downtown</td>\n",
       "      <td>(39.288677999999997, -76.620947999999999)</td>\n",
       "      <td>39.288678</td>\n",
       "      <td>-76.620948</td>\n",
       "    </tr>\n",
       "    <tr>\n",
       "      <th>4</th>\n",
       "      <td>Eutaw and Lombard</td>\n",
       "      <td>5</td>\n",
       "      <td>Downtown</td>\n",
       "      <td>(39.287528000000002, -76.620853999999994)</td>\n",
       "      <td>39.287528</td>\n",
       "      <td>-76.620854</td>\n",
       "    </tr>\n",
       "  </tbody>\n",
       "</table>\n",
       "</div>"
      ],
      "text/plain": [
       "               cameraLocation  cameraNumber cameraProject  \\\n",
       "0  Eutaw and Lexington Market             1      Downtown   \n",
       "1           Eutaw and Fayette             2      Downtown   \n",
       "2         Eutaw and Baltimore             3      Downtown   \n",
       "3           Eutaw and Redwood             4      Downtown   \n",
       "4           Eutaw and Lombard             5      Downtown   \n",
       "\n",
       "                                  Location 1   latitude  longitude  \n",
       "0           (39.290996, -76.621073999999993)  39.290996 -76.621074  \n",
       "1   (39.29048796517317, -76.623665143680341)  39.290488 -76.623665  \n",
       "2  (39.289324000000001, -76.620985000000005)  39.289324 -76.620985  \n",
       "3  (39.288677999999997, -76.620947999999999)  39.288678 -76.620948  \n",
       "4  (39.287528000000002, -76.620853999999994)  39.287528 -76.620854  "
      ]
     },
     "execution_count": 7,
     "metadata": {},
     "output_type": "execute_result"
    }
   ],
   "source": [
    "cctv_df.head()"
   ]
  },
  {
   "cell_type": "code",
   "execution_count": 24,
   "metadata": {},
   "outputs": [],
   "source": [
    "# Test how does geolocator.reverse works\n",
    "geolocator = Nominatim(user_agent=\"Baltimore_Crime\")\n",
    "location = geolocator.reverse(\"39.290488, -76.623665\")"
   ]
  },
  {
   "cell_type": "code",
   "execution_count": 25,
   "metadata": {},
   "outputs": [
    {
     "name": "stdout",
     "output_type": "stream",
     "text": [
      "University of Maryland Baltimore, West Baltimore Street, Ridgleys Delight, Baltimore, Maryland, 21223, USA\n"
     ]
    }
   ],
   "source": [
    "print(location.address)"
   ]
  },
  {
   "cell_type": "code",
   "execution_count": null,
   "metadata": {},
   "outputs": [],
   "source": []
  }
 ],
 "metadata": {
  "kernelspec": {
   "display_name": "Python 3",
   "language": "python",
   "name": "python3"
  },
  "language_info": {
   "codemirror_mode": {
    "name": "ipython",
    "version": 3
   },
   "file_extension": ".py",
   "mimetype": "text/x-python",
   "name": "python",
   "nbconvert_exporter": "python",
   "pygments_lexer": "ipython3",
   "version": "3.7.1"
  }
 },
 "nbformat": 4,
 "nbformat_minor": 2
}
